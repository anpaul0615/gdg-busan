{
 "cells": [
  {
   "cell_type": "markdown",
   "metadata": {
    "collapsed": true,
    "deletable": true,
    "editable": true
   },
   "source": [
    "# Ch02. Spirograph"
   ]
  },
  {
   "cell_type": "markdown",
   "metadata": {
    "deletable": true,
    "editable": true
   },
   "source": [
    "## 1. 원 그리기"
   ]
  },
  {
   "cell_type": "code",
   "execution_count": 1,
   "metadata": {
    "collapsed": false,
    "deletable": true,
    "editable": true
   },
   "outputs": [],
   "source": [
    "import math\n",
    "import turtle\n",
    "\n",
    "def drawCircleTurtle(x,y,r):\n",
    "    #펜을 땐다\n",
    "    turtle.up()\n",
    "    \n",
    "    #펜의 위치를 정한다\n",
    "    turtle.setpos(x+r, y)\n",
    "    \n",
    "    #펜을 내린다\n",
    "    turtle.down()\n",
    "    \n",
    "    #펜을 움직인다\n",
    "    for i in range(0,365,5):\n",
    "        a = math.radians(i)\n",
    "        turtle.setpos(x + r*math.cos(a), y + r*math.sin(a))"
   ]
  },
  {
   "cell_type": "code",
   "execution_count": 2,
   "metadata": {
    "collapsed": true,
    "deletable": true,
    "editable": true
   },
   "outputs": [],
   "source": [
    "# drawCircleTurtle(100,100,50)\n",
    "# turtle.bye()"
   ]
  },
  {
   "cell_type": "markdown",
   "metadata": {
    "deletable": true,
    "editable": true
   },
   "source": [
    "## 2. 스파이로 그래프"
   ]
  },
  {
   "cell_type": "code",
   "execution_count": 3,
   "metadata": {
    "collapsed": false,
    "deletable": true,
    "editable": true
   },
   "outputs": [],
   "source": [
    "import math\n",
    "import turtle\n",
    "\n",
    "class Spiro:\n",
    "    def __init__(self,xc,yc,col,R,r,l):\n",
    "        self.t = turtle.Turtle()\n",
    "        self.t.shape('turtle')\n",
    "        self.step = 5\n",
    "        self.drawingComplete = False\n",
    "        self.setparams(xc,yc,col,R,r,l)\n",
    "        self.restart()\n",
    "        \n",
    "        \n",
    "    def setparams(self,xc,yc,col,R,r,l):\n",
    "        self.xc = xc\n",
    "        self.yc = yc\n",
    "        self.col = col\n",
    "        self.R = int(R)\n",
    "        self.r = int(r)\n",
    "        self.l = l\n",
    "        \n",
    "        #지름,반지름 최대공약수\n",
    "        gcdVal = math.gcd(self.r, self.R)\n",
    "        \n",
    "        #최대공약수에 대한 반지름 비율\n",
    "        self.nRot = self.r//gcdVal\n",
    "        \n",
    "        #지름에 대한 반지름 비율\n",
    "        self.k = r/float(R)\n",
    "        \n",
    "        #색깔\n",
    "        self.t.color(*col)\n",
    "        \n",
    "        #현재각도\n",
    "        self.a = 0\n",
    "        \n",
    "        \n",
    "    def restart(self):\n",
    "        self.drawingComplete = False\n",
    "        self.t.showturtle()\n",
    "        self.t.up()\n",
    "        R,k,l = self.R, self.k, self.l\n",
    "        a = 0.0\n",
    "        x = R*( (1-k)*math.cos(a) + l*k*math.cos((1-k)*a/k) )\n",
    "        y = R*( (1-k)*math.sin(a) + l*k*math.sin((1-k)*a/k) )\n",
    "        self.t.setpos(self.xc + x, self.yc + y)\n",
    "        self.t.down()\n",
    "        \n",
    "        \n",
    "    def draw(self):\n",
    "        R,k,l = self.R, self.k, self.l\n",
    "        for i in range(0, 360*self.nRot+1, self.step):\n",
    "            a = math.radians(i)\n",
    "            x = R*( (1-k)*math.cos(a) + l*k*math.cos((1-k)*a/k) )\n",
    "            y = R*( (1-k)*math.sin(a) + l*k*math.sin((1-k)*a/k) )\n",
    "            self.t.setpos(self.xc + x, self.yc + y)\n",
    "        self.t.hideturtle()\n",
    "        \n",
    "        \n",
    "    def update(self):\n",
    "        if self.drawingComplete:\n",
    "            return\n",
    "        \n",
    "        self.a += self.step\n",
    "        \n",
    "        R,k,l = self.R, self.k, self.l\n",
    "        a = math.radians(self.a)\n",
    "        x = R*( (1-k)*math.cos(a) + l*k*math.cos((1-k)*a/k) )\n",
    "        y = R*( (1-k)*math.sin(a) + l*k*math.sin((1-k)*a/k) )\n",
    "        self.t.setpos(self.xc + x, self.yc + y)\n",
    "        if self.a >= 360*self.nRot:\n",
    "            self.drawingComplete = True\n",
    "            self.t.hideturtle()\n",
    "        "
   ]
  },
  {
   "cell_type": "markdown",
   "metadata": {},
   "source": [
    "## 3. 그래프 그리기"
   ]
  },
  {
   "cell_type": "code",
   "execution_count": 4,
   "metadata": {
    "collapsed": false,
    "deletable": true,
    "editable": true
   },
   "outputs": [],
   "source": [
    "import random\n",
    "import PIL.Image\n",
    "\n",
    "# Canvas Size\n",
    "turtle.setup(width=0.5)\n",
    "width = turtle.window_width()\n",
    "height = turtle.window_height()\n",
    "# Radius of outer circle\n",
    "R = random.randint(50, min(width, height)//2)\n",
    "# Radius of inner circle\n",
    "r = random.randint(10, 9*R//10)\n",
    "# Ratio of hole distance to r\n",
    "l = random.uniform(0.3, 0.9)\n",
    "# Position of outer circle\n",
    "xc = random.randint(0, width//2)\n",
    "yc = random.randint(0, height//2)\n",
    "# Line Color\n",
    "col = (random.random(), random.random(), random.random())\n",
    "    \n",
    "# Init Spiro\n",
    "spiro = Spiro(xc,yc,col,R,r,l)\n",
    "    \n",
    "def update():    \n",
    "    if spiro.drawingComplete:\n",
    "        epsfile = 'spiro.eps'\n",
    "        imgfile = 'spiro.png'\n",
    "        canvas = turtle.getcanvas()\n",
    "        canvas.postscript(file=epsfile)\n",
    "        img = PIL.Image.open(epsfile)\n",
    "        img.save(imgfile, 'png')\n",
    "        turtle.bye()\n",
    "    else:\n",
    "        spiro.update()\n",
    "        turtle.ontimer(update, 1)"
   ]
  },
  {
   "cell_type": "code",
   "execution_count": 5,
   "metadata": {
    "collapsed": true
   },
   "outputs": [],
   "source": [
    "update()\n",
    "turtle.mainloop()"
   ]
  },
  {
   "cell_type": "markdown",
   "metadata": {},
   "source": [
    "## 4. 그래프 출력"
   ]
  },
  {
   "cell_type": "code",
   "execution_count": 6,
   "metadata": {
    "collapsed": false,
    "deletable": true,
    "editable": true
   },
   "outputs": [
    {
     "data": {
      "image/png": "[encoded data removed]",
      "text/plain": [
       "<IPython.core.display.Image object>"
      ]
     },
     "execution_count": 6,
     "metadata": {},
     "output_type": "execute_result"
    }
   ],
   "source": [
    "import IPython.display\n",
    "IPython.display.Image(filename='spiro.png')"
   ]
  }
 ],
 "metadata": {
  "kernelspec": {
   "display_name": "Python 3",
   "language": "python",
   "name": "python3"
  },
  "language_info": {
   "codemirror_mode": {
    "name": "ipython",
    "version": 3
   },
   "file_extension": ".py",
   "mimetype": "text/x-python",
   "name": "python",
   "nbconvert_exporter": "python",
   "pygments_lexer": "ipython3",
   "version": "3.5.2"
  }
 },
 "nbformat": 4,
 "nbformat_minor": 2
}
