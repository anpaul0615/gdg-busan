{
 "cells": [
  {
   "cell_type": "markdown",
   "metadata": {},
   "source": [
    "# ch3-summary"
   ]
  },
  {
   "cell_type": "markdown",
   "metadata": {},
   "source": [
    "## 3.1. 신경망의 구조\n",
    "\n",
    "- 네트워크, 층, 모델..?  \n",
    "  네트워크 == 신경망 == 모델 (딥러닝 구성 자체를 말하는듯함)  \n",
    "  층  == 딥러닝의 구성 단위 (입력과 출력을 처리하는~)  \n",
    "  모델 == 층의 네트워크 (각 레이어가 입출력을 전달하고받도록 구성된~)  \n",
    "  \n",
    "- 층은 딥러닝의 레고블록처럼~  \n",
    "\n",
    "- 층호환성..?  \n",
    "  각 층이 특정 크기의 입력텐서만 받고~ 특정 크기의 출력텐서만 반환하는 성질~  \n",
    "  \n",
    "- 비순환유향그래프..?  \n",
    "  방향그래프긴 한데 자기에게 못돌아오는 그래프~  \n",
    "  대부분의 모델은 비순환유향그래프임  \n",
    "\n",
    "- 가설공간..?  \n",
    "  네트워크 구조를 선택한다는 것은  \n",
    "  가능성 있는 공간을 입력데이터에서 출력데이터로 매피아는 일련의 특정 텐서 연산..?  \n",
    "  딱 맞는 네트워크 구조를 찾는것은 힘든일임  \n",
    "  경험적으로 적절한 모델을 찾는것이 ~  \n",
    "  \n",
    "- 손실함수..?  \n",
    "  훈련하는동안  \n",
    "  0에 가까워질수록 예측과 실제값이 유사하다는 의미\n",
    "  \n",
    "- 옵티마이저..?  \n",
    "  손실함수를 기반으로 네트워크를 가중치를 업데이트  \n",
    "  특정종류의 확률적경사하강법을 구현  \n",
    "\n",
    "- 여러개의 출력을 내는 신경망은 여러개의 손실함수를 가질수있음 (출력당 하나씩)  \n",
    "\n",
    "- 목적함수(손실함수) 를 선택하는 방법..?  \n",
    "  목표하는 문제 해결에 따라 적절하게 선택해야함  \n",
    "  완전히 새로운 연구를 할때만 독자적인 목적함수를 만들게됨  \n"
   ]
  },
  {
   "cell_type": "markdown",
   "metadata": {},
   "source": [
    "---\n",
    "## 3.2. 케라스 소개\n",
    "\n",
    "- 딥러닝 모델을 간편하게 다룰수있도록 지원하는 파이썬 기반 프레임워크  \n",
    "  서비스를 빠르게 만들기위해 개발된~ 연구자들을위해~  \n",
    "  대부분의 딥러닝 모델에 적합  \n",
    "  \n",
    "- 케라스 백엔드엔진  \n",
    "  텐서플로, 씨아노, CNTK  \n",
    "  \n",
    "- 케라스로 MNIST 예제 구동  \n",
    "  입력텐서와 타깃센서로 이루어진 훈련데이터 정의  \n",
    "  입력과 타깃으패핑하는 네트워크 정의  \n",
    "  \n",
    "- 모델을 정의하는 방법..?  \n",
    "  시퀀스 API, 함수형 API  \n"
   ]
  },
  {
   "cell_type": "markdown",
   "metadata": {},
   "source": [
    "---\n",
    "## 3.3. 딥러닝 컴퓨터세팅\n",
    "\n",
    "- GPU가 더좋다~ 클라우드가 더좋다~\n",
    "\n",
    "- 깃헙~ 예제코드~\n",
    "\n"
   ]
  },
  {
   "cell_type": "markdown",
   "metadata": {},
   "source": [
    "---\n",
    "## 3.4. 영화 리뷰 분류 : 이진 분류 예제\n",
    "\n",
    "- 영화에 대한 긍정/부정 리뷰 분류\n",
    "  IMDB 데이터세트\n",
    "\n",
    "- 훈련데이터와 테스트데이터를 나누는 이유..?\n",
    "  트레이닝데이터로 테스트를하면 오버피팅이 발생하기 때문!!\n",
    "  (하나의 데이터세트를 쪼개서 사용하는 경우..? 보통 0.8/0.2 로 구분하는경우..?)\n",
    "\n",
    "- IMDB 데이터세트 속성 설명\n",
    "\n",
    "- 케라스에서 IMDB 데이터세트 살펴보기\n",
    "  데이터세트의 길이, 크기\n",
    "  리뷰 텍스트에서 사용되는 단어는 10000개로 제한 (인덱스 99999)\n",
    "  리뷰 텍스트를 사전에 등록되어있는 단어의 인덱스번호로 매칭해놓았음\n",
    "  => 실제 텍스트를 확인할때 사전과 매핑해야~?\n",
    "  => 원-핫 인코딩..? 왜 쓰는가?? (데이터 레이블..?) (1의 개수로 판단하는..?) (트레이드오프..?)\n",
    "\n",
    "- 신경망 모델 만들기\n",
    "  1) 신경망 생성 : Dense 층 추가 + relu 활성함수 지정 + 시그모이드 활성함수 지정\n",
    "  2) 컴파일 : rmsprop 옵티마이저 지정 + binary_crossentropy 로스함수 지정 + accuracy 메트릭스 지정\n",
    "  3) 테스트 : 훈련데이터와 테스트데이터 지정 + 에포크사이즈 지정 + 배치사이즈 지정 + \n",
    "     (fit 함수 결과를 히스토리로 받아서 확인할수있음) \n",
    "  4) 평가 : 테스트 결과를 matplotlib 로 시각화 확인\n",
    "     (예측값과 실제값에대한 loss, accu, 확인) \n",
    "\n",
    "- 오버피팅 문제 해결\n",
    "\n",
    "- early stopping..? => 모델 학습/컴파일 테스트 과정에서 프로그램 레벨에서 오버피팅 판단~ (사람이 직접하는게아님)\n",
    "\n",
    "- 훈련된 모델로 예측 실행\n",
    "  predict 함수~\n",
    "\n"
   ]
  },
  {
   "cell_type": "markdown",
   "metadata": {},
   "source": [
    "### (코드 실습)"
   ]
  },
  {
   "cell_type": "code",
   "execution_count": 1,
   "metadata": {},
   "outputs": [
    {
     "name": "stderr",
     "output_type": "stream",
     "text": [
      "Using TensorFlow backend.\n"
     ]
    }
   ],
   "source": [
    "## IMDB 데이터세트 로드\n",
    "\n",
    "from keras.datasets import imdb\n",
    "\n",
    "(train_data, train_labels), (test_data, test_labels) = imdb.load_data(num_words=10000)"
   ]
  },
  {
   "cell_type": "code",
   "execution_count": 2,
   "metadata": {},
   "outputs": [
    {
     "name": "stdout",
     "output_type": "stream",
     "text": [
      "[[0. 1. 1. ... 0. 0. 0.]\n",
      " [0. 1. 1. ... 0. 0. 0.]\n",
      " [0. 1. 1. ... 0. 0. 0.]\n",
      " ...\n",
      " [0. 1. 1. ... 0. 0. 0.]\n",
      " [0. 1. 1. ... 0. 0. 0.]\n",
      " [0. 1. 1. ... 0. 0. 0.]]\n",
      "[[0. 1. 1. ... 0. 0. 0.]\n",
      " [0. 1. 1. ... 0. 0. 0.]\n",
      " [0. 1. 1. ... 0. 0. 0.]\n",
      " ...\n",
      " [0. 1. 1. ... 0. 0. 0.]\n",
      " [0. 1. 1. ... 0. 0. 0.]\n",
      " [0. 1. 1. ... 0. 0. 0.]]\n",
      "[0. 1. 1. ... 0. 0. 0.]\n"
     ]
    }
   ],
   "source": [
    "## 정수 시퀀스를 이진행렬로 인코딩\n",
    "\n",
    "import numpy as np\n",
    "\n",
    "def vectorize_sequences(sequences, dimension=10000):\n",
    "    results = np.zeros((len(sequences), dimension))\n",
    "    for i, sequence in enumerate(sequences):\n",
    "        results[i, sequence] = 1.\n",
    "    return results\n",
    "\n",
    "x_train = vectorize_sequences(train_data)\n",
    "x_test = vectorize_sequences(test_data)\n",
    "\n",
    "print(x_train)\n",
    "print(x_test)\n",
    "print(x_train[0])"
   ]
  },
  {
   "cell_type": "code",
   "execution_count": 3,
   "metadata": {},
   "outputs": [
    {
     "name": "stdout",
     "output_type": "stream",
     "text": [
      "[1. 0. 0. ... 0. 1. 0.]\n",
      "[0. 1. 1. ... 0. 0. 0.]\n"
     ]
    }
   ],
   "source": [
    "## 레이블을 벡터로 변환\n",
    "\n",
    "y_train = np.asarray(train_labels).astype('float32')\n",
    "y_test = np.asarray(test_labels).astype('float32')\n",
    "\n",
    "print(y_train)\n",
    "print(y_test)"
   ]
  },
  {
   "cell_type": "code",
   "execution_count": 4,
   "metadata": {},
   "outputs": [
    {
     "name": "stdout",
     "output_type": "stream",
     "text": [
      "WARNING:tensorflow:From /home/anpaul0615/anaconda3/envs/deeplearning-with-keras/lib/python3.6/site-packages/tensorflow/python/framework/op_def_library.py:263: colocate_with (from tensorflow.python.framework.ops) is deprecated and will be removed in a future version.\n",
      "Instructions for updating:\n",
      "Colocations handled automatically by placer.\n"
     ]
    }
   ],
   "source": [
    "## 모델 정의\n",
    "\n",
    "from keras import models\n",
    "from keras import layers\n",
    "\n",
    "model = models.Sequential()\n",
    "model.add(layers.Dense(16, activation='relu', input_shape=(10000,)))\n",
    "model.add(layers.Dense(16, activation='relu'))\n",
    "model.add(layers.Dense(1, activation='sigmoid'))"
   ]
  },
  {
   "cell_type": "code",
   "execution_count": 5,
   "metadata": {},
   "outputs": [],
   "source": [
    "## 모델 컴파일\n",
    "\n",
    "model.compile(optimizer='rmsprop',\n",
    "    loss='binary_crossentropy',\n",
    "    metrics=['accuracy'])"
   ]
  },
  {
   "cell_type": "code",
   "execution_count": 6,
   "metadata": {},
   "outputs": [],
   "source": [
    "## 옵티마이저 설정하기\n",
    "\n",
    "from keras import optimizers\n",
    "\n",
    "model.compile(optimizer=optimizers.RMSprop(lr=0.001),\n",
    "    loss='binary_crossentropy',\n",
    "    metrics=['accuracy'])"
   ]
  },
  {
   "cell_type": "code",
   "execution_count": 7,
   "metadata": {},
   "outputs": [],
   "source": [
    "## 손실과 측정을 함수 객체로 설정\n",
    "\n",
    "from keras import losses\n",
    "from keras import metrics\n",
    "\n",
    "model.compile(optimizer=optimizers.RMSprop(lr=0.001),\n",
    "    loss=losses.binary_crossentropy,\n",
    "    metrics=[metrics.binary_accuracy])"
   ]
  },
  {
   "cell_type": "code",
   "execution_count": 8,
   "metadata": {},
   "outputs": [],
   "source": [
    "## 검증 세트 준비\n",
    "\n",
    "x_val = x_train[:10000]\n",
    "partial_x_train = x_train[10000:]\n",
    "y_val = y_train[:10000]\n",
    "partial_y_train = y_train[10000:]"
   ]
  },
  {
   "cell_type": "code",
   "execution_count": 11,
   "metadata": {},
   "outputs": [
    {
     "name": "stdout",
     "output_type": "stream",
     "text": [
      "WARNING:tensorflow:From /home/anpaul0615/anaconda3/envs/deeplearning-with-keras/lib/python3.6/site-packages/tensorflow/python/ops/math_ops.py:3066: to_int32 (from tensorflow.python.ops.math_ops) is deprecated and will be removed in a future version.\n",
      "Instructions for updating:\n",
      "Use tf.cast instead.\n",
      "Train on 15000 samples, validate on 10000 samples\n",
      "Epoch 1/20\n",
      "15000/15000 [==============================] - 2s 153us/step - loss: 0.5056 - acc: 0.7869 - val_loss: 0.3778 - val_acc: 0.8714\n",
      "Epoch 2/20\n",
      "15000/15000 [==============================] - 2s 116us/step - loss: 0.2995 - acc: 0.9044 - val_loss: 0.3003 - val_acc: 0.8895\n",
      "Epoch 3/20\n",
      "15000/15000 [==============================] - 2s 110us/step - loss: 0.2174 - acc: 0.9290 - val_loss: 0.3089 - val_acc: 0.8710\n",
      "Epoch 4/20\n",
      "15000/15000 [==============================] - 2s 114us/step - loss: 0.1748 - acc: 0.9442 - val_loss: 0.2829 - val_acc: 0.8846\n",
      "Epoch 5/20\n",
      "15000/15000 [==============================] - 2s 113us/step - loss: 0.1422 - acc: 0.9544 - val_loss: 0.2855 - val_acc: 0.8859\n",
      "Epoch 6/20\n",
      "15000/15000 [==============================] - 2s 113us/step - loss: 0.1149 - acc: 0.9652 - val_loss: 0.3133 - val_acc: 0.8788\n",
      "Epoch 7/20\n",
      "15000/15000 [==============================] - 2s 115us/step - loss: 0.0977 - acc: 0.9708 - val_loss: 0.3133 - val_acc: 0.8838\n",
      "Epoch 8/20\n",
      "15000/15000 [==============================] - 2s 113us/step - loss: 0.0806 - acc: 0.9763 - val_loss: 0.3863 - val_acc: 0.8656\n",
      "Epoch 9/20\n",
      "15000/15000 [==============================] - 2s 120us/step - loss: 0.0661 - acc: 0.9821 - val_loss: 0.3640 - val_acc: 0.8781\n",
      "Epoch 10/20\n",
      "15000/15000 [==============================] - 2s 110us/step - loss: 0.0562 - acc: 0.9851 - val_loss: 0.3847 - val_acc: 0.8788\n",
      "Epoch 11/20\n",
      "15000/15000 [==============================] - 2s 108us/step - loss: 0.0438 - acc: 0.9895 - val_loss: 0.4151 - val_acc: 0.8773\n",
      "Epoch 12/20\n",
      "15000/15000 [==============================] - 2s 115us/step - loss: 0.0382 - acc: 0.9920 - val_loss: 0.4535 - val_acc: 0.8690\n",
      "Epoch 13/20\n",
      "15000/15000 [==============================] - 2s 109us/step - loss: 0.0300 - acc: 0.9929 - val_loss: 0.4709 - val_acc: 0.8730\n",
      "Epoch 14/20\n",
      "15000/15000 [==============================] - 2s 108us/step - loss: 0.0249 - acc: 0.9941 - val_loss: 0.5051 - val_acc: 0.8721\n",
      "Epoch 15/20\n",
      "15000/15000 [==============================] - 2s 115us/step - loss: 0.0199 - acc: 0.9965 - val_loss: 0.5323 - val_acc: 0.8702\n",
      "Epoch 16/20\n",
      "15000/15000 [==============================] - 2s 119us/step - loss: 0.0147 - acc: 0.9981 - val_loss: 0.5701 - val_acc: 0.8695\n",
      "Epoch 17/20\n",
      "15000/15000 [==============================] - 2s 110us/step - loss: 0.0142 - acc: 0.9977 - val_loss: 0.6019 - val_acc: 0.8668\n",
      "Epoch 18/20\n",
      "15000/15000 [==============================] - 2s 111us/step - loss: 0.0103 - acc: 0.9985 - val_loss: 0.6318 - val_acc: 0.8669\n",
      "Epoch 19/20\n",
      "15000/15000 [==============================] - 2s 117us/step - loss: 0.0059 - acc: 0.9998 - val_loss: 0.7290 - val_acc: 0.8556\n",
      "Epoch 20/20\n",
      "15000/15000 [==============================] - 2s 113us/step - loss: 0.0105 - acc: 0.9979 - val_loss: 0.6957 - val_acc: 0.8655\n"
     ]
    }
   ],
   "source": [
    "## 모델 훈련\n",
    "\n",
    "model.compile(optimizer='rmsprop',\n",
    "    loss='binary_crossentropy',\n",
    "    metrics=['acc'])\n",
    "\n",
    "history = model.fit(partial_x_train,\n",
    "    partial_y_train,\n",
    "    epochs=20,\n",
    "    batch_size=512,\n",
    "    validation_data=(x_val, y_val))"
   ]
  },
  {
   "cell_type": "code",
   "execution_count": 16,
   "metadata": {},
   "outputs": [
    {
     "name": "stdout",
     "output_type": "stream",
     "text": [
      "{'val_loss': [0.3777605456352234, 0.30032042841911316, 0.3089017548084259, 0.28294081444740293, 0.2854898992538452, 0.3133087540626526, 0.3132726318359375, 0.38627751240730285, 0.36397034001350403, 0.38471435050964353, 0.41507122797966, 0.45352791152000427, 0.47087361006736755, 0.5050847821712494, 0.5323456324577331, 0.5701003874778747, 0.6018693321228027, 0.6317513502120972, 0.7289528594017028, 0.695660378074646], 'val_acc': [0.8713999997138977, 0.8895000004768372, 0.8710000000953674, 0.8846000002861023, 0.8859000002861023, 0.8787999999046325, 0.8837999999046325, 0.8655999999046325, 0.8781000000953675, 0.8788000001907349, 0.8773, 0.8689999998092651, 0.8729999997138977, 0.8720999996185302, 0.8701999998092651, 0.8694999996185303, 0.8667999997138977, 0.8668999995231629, 0.855599999332428, 0.8654999994277954], 'loss': [0.5055805632432302, 0.29948044962882997, 0.21743362159729004, 0.17483400015830994, 0.14221941572825114, 0.11487679263750712, 0.0977293883005778, 0.080570490082105, 0.06605814737081528, 0.05618847178618113, 0.04375672689874967, 0.03815461412270864, 0.029997765822211902, 0.024874066300193468, 0.019872943784793217, 0.014699461748699348, 0.014249227791527907, 0.010309490410983562, 0.005850307855010032, 0.010450211455921333], 'acc': [0.7868666668574015, 0.9044000000317891, 0.9289999999364217, 0.9441999998728434, 0.9543999997138977, 0.9652000000635783, 0.9708000001589457, 0.9762666664441426, 0.9820666666348775, 0.9850666666348775, 0.9894666669209798, 0.9920000001589457, 0.9928666666666667, 0.9940666666666667, 0.9965333333333334, 0.9980666666666667, 0.9976666666666667, 0.9985333333333334, 0.9998000002543131, 0.9978666666666667]}\n"
     ]
    }
   ],
   "source": [
    "print(history.history)"
   ]
  },
  {
   "cell_type": "code",
   "execution_count": 18,
   "metadata": {},
   "outputs": [
    {
     "data": {
      "image/png": "[encoded data removed]",
      "text/plain": [
       "<Figure size 432x288 with 1 Axes>"
      ]
     },
     "metadata": {
      "needs_background": "light"
     },
     "output_type": "display_data"
    }
   ],
   "source": [
    "## 훈련과 검증 손실 표출\n",
    "\n",
    "import matplotlib.pyplot as plt\n",
    "\n",
    "history_dict = history.history\n",
    "loss = history_dict['loss']\n",
    "val_loss = history_dict['val_loss']\n",
    "\n",
    "epochs = range(1, len(loss) + 1)\n",
    "\n",
    "plt.plot(epochs, loss, 'bo', label='Traning loss')\n",
    "plt.plot(epochs, val_loss, 'b', label='Validation loss')\n",
    "plt.title('Traning and validation loss')\n",
    "plt.xlabel('Epochs')\n",
    "plt.ylabel('Loss')\n",
    "plt.legend()\n",
    "\n",
    "plt.show()"
   ]
  },
  {
   "cell_type": "code",
   "execution_count": 19,
   "metadata": {},
   "outputs": [
    {
     "data": {
      "image/png": "[encoded data removed]",
      "text/plain": [
       "<Figure size 432x288 with 1 Axes>"
      ]
     },
     "metadata": {
      "needs_background": "light"
     },
     "output_type": "display_data"
    }
   ],
   "source": [
    "## 훈련과 검증 정확도 표출\n",
    "\n",
    "plt.clf()\n",
    "acc = history_dict['acc']\n",
    "val_acc = history_dict['val_acc']\n",
    "\n",
    "plt.plot(epochs, acc, 'bo', label='Training acc')\n",
    "plt.plot(epochs, val_acc, 'b', label='Validation acc')\n",
    "plt.title('Training and validation accuracy')\n",
    "plt.xlabel('Epochs')\n",
    "plt.ylabel('Accuracy')\n",
    "plt.legend()\n",
    "\n",
    "plt.show()"
   ]
  },
  {
   "cell_type": "code",
   "execution_count": 25,
   "metadata": {},
   "outputs": [
    {
     "name": "stdout",
     "output_type": "stream",
     "text": [
      "Epoch 1/4\n",
      "25000/25000 [==============================] - 2s 89us/step - loss: 0.4782 - acc: 0.8270\n",
      "Epoch 2/4\n",
      "25000/25000 [==============================] - 2s 74us/step - loss: 0.2785 - acc: 0.9075\n",
      "Epoch 3/4\n",
      "25000/25000 [==============================] - 2s 73us/step - loss: 0.2093 - acc: 0.9278\n",
      "Epoch 4/4\n",
      "25000/25000 [==============================] - 2s 72us/step - loss: 0.1731 - acc: 0.9394\n",
      "25000/25000 [==============================] - 2s 67us/step\n"
     ]
    }
   ],
   "source": [
    "## 모델을 처음부터 다시 훈련\n",
    "\n",
    "model = models.Sequential()\n",
    "model.add(layers.Dense(16, activation='relu', input_shape=(10000,)))\n",
    "model.add(layers.Dense(16, activation='relu'))\n",
    "model.add(layers.Dense(1, activation='sigmoid'))\n",
    "\n",
    "model.compile(optimizer='rmsprop',\n",
    "             loss='binary_crossentropy',\n",
    "             metrics=['accuracy'])\n",
    "\n",
    "model.fit(x_train, y_train, epochs=4, batch_size=512)\n",
    "results = model.evaluate(x_test, y_test)"
   ]
  },
  {
   "cell_type": "code",
   "execution_count": 28,
   "metadata": {},
   "outputs": [
    {
     "name": "stdout",
     "output_type": "stream",
     "text": [
      "[0.30524370700836184, 0.87852]\n"
     ]
    }
   ],
   "source": [
    "## 다시 훈련한 모델 평가\n",
    "\n",
    "print(results)"
   ]
  },
  {
   "cell_type": "code",
   "execution_count": 30,
   "metadata": {},
   "outputs": [
    {
     "data": {
      "text/plain": [
       "array([[0.1573557 ],\n",
       "       [0.99993837],\n",
       "       [0.77464175],\n",
       "       ...,\n",
       "       [0.11122066],\n",
       "       [0.05827653],\n",
       "       [0.41708115]], dtype=float32)"
      ]
     },
     "execution_count": 30,
     "metadata": {},
     "output_type": "execute_result"
    }
   ],
   "source": [
    "## 훈련된 모델로 새로운 데이터에 대해 예측\n",
    "\n",
    "model.predict(x_test)"
   ]
  },
  {
   "cell_type": "markdown",
   "metadata": {},
   "source": [
    "### (코드 실습 정리)\n",
    "\n",
    "- 원본 데이터를 텐서로 주입하기위해 꽤 많은 전처리작업이 필요함  \n",
    "  실습코드처럼 단어 시퀀스는 이진벡터(원-핫 인코딩) 로 인코딩될수도있고, 다른 방식으로 인코딩될수도 있음\n",
    "\n",
    "- relu 활성화함수..?  \n",
    "  => (x > 0)? x : 0 \n",
    "  \n",
    "- Dense 층..?  \n",
    "  => 완전히 연결되어있는 신경망 층\n",
    "  => fully connected layer == densely connected layer == dense layer\n",
    "\n",
    "- relu 활성화함수와 Dense 레이어로 구성된 네트워크(모델)은  \n",
    "  감성 분류와 같은 여러종류의 문제에 적용할수 있으므로 앞으로 자주 사용하게 됨\n",
    "\n",
    "- 이진 분류 문제에서 네트워크는, 하나의 유닛과 sigmoid 활성화함수를 가진 Dense 층으로 끝나야 함  \n",
    "  => 네트워크의 목적이 \"이진 분류\" 이기때문에, 최종 출력이 0 또는 1 인 스칼라값이 됨  \n",
    "  => 즉 출력 클래스가 두개인 출력값 하나를 반환하기 때문에,  \n",
    "     \"하나의 유닛\" 과 \"sigmoid 활성화함수\" 로 구성된 Dense 층으로 끝나야함\n",
    "\n",
    "- 이진 분류의 결과값인 sigmoid 출력값에 대해 사용할 손실함수는 binary_crossentropy 임 (이유는?)\n",
    "\n",
    "- rmsprop 옵티마이저는 문제 종류에 상관없이 일반적으로 좋은 선택임 (다른옵티마아저와의 차이는?)\n",
    "\n",
    "- 훈련데이터에 대해 성능이 향상됨에 따라 신경망은 과대적합되기 시작하고,  \n",
    "  이전에 본적없는 데이터에 대해서는 결과가 점점 나빠지기 시작함  \n",
    "  => 항상 테스트는 훈련데이터 이외의 데이터에서 진행해야함\n"
   ]
  },
  {
   "cell_type": "markdown",
   "metadata": {},
   "source": [
    "---\n",
    "## 3.5. 뉴스 기사 분류 : 다중 분류 문제\n",
    "\n",
    "- 다중분류..?  \n",
    "  이전 단일분류는 긍정/부정 딱 두가지만 판단하는 경우 => 즉 결과값이 두 종류 (ex. 참/거짓, 긍정/부정, ..)  \n",
    "  다중분류는 최종 판단 종류가 여러개인 경우 (ex.뉴스기사카테고리, ..)  \n",
    "  \n",
    "- 로이터 데이터세트 살펴보기\n",
    "\n",
    "- 모델구성  \n",
    "\n",
    "- 입력층은 출력층보다 크기가 커야한다..?  \n",
    "  => Dense 층은 이전층의 출력에서 제공한 결과값을 입력으로 사용함  \n",
    "  => 그런데 한 층에서 분류에 필요한 일부정보가 누락되면 그 다음층 이후부터는 이를 복원할 방법이 없음  \n",
    "  => 이런 모델구조는 잠재적으로 정보의 병목(information bottleneck) 이 될수있음  \n",
    "\n",
    "- 정보의 병목..?  \n",
    "  => 데이터 입장에서 데이터가 유실되는것을 병목이라고 부름!    \n",
    "\n",
    "- softmax 활성화함수..?  \n",
    "  => 입력에 대한 분류 결과를 확률분포로 반환하는 함수  \n",
    "  => ex) 이 값은 이 카테고리일 확률이 0.86 정도임  \n",
    "  \n",
    "- 훈련검증  \n",
    "\n",
    "- 충분히 큰 중간층(은닉층) 을 두어야 하는 이유..?  \n",
    "  => 정보의 병목을 방지하기 위해서!!  \n",
    "\n",
    "- 병목현상 예시 : Dense(64) -> Dense(4) -> Dense(46) 로 구성된 네트워크  \n",
    "  => 입력이 4차원 중간층을 통과하면서 필요한 정보 대부분이 유실됨  \n",
    "  => 필요한 정보를 4차원 표현안에 구겨넣었지만 전부 넣지는 못했기 때문  \n"
   ]
  },
  {
   "cell_type": "markdown",
   "metadata": {},
   "source": [
    "### (코드 실습)"
   ]
  },
  {
   "cell_type": "markdown",
   "metadata": {},
   "source": [
    "### (코드 실습 정리)\n",
    "\n",
    "- N 개의 클래스로 분류하는 문제에 대한 모델의 마지막 Dense 층 크기는 N 이어야 함  \n",
    "  => N 개의 클래스로 분류한다는 말은, 분류하고자하는 종류(카테고리)가 N 개라는 의미  \n",
    "  => 즉 네트워크의 결과값의 종류가 N 개여야 한다는 의미  \n",
    "  => 다시말해서 마지막 Dense 층의 출력 갯수가 N 개여야 한다는 의미  \n",
    "  \n",
    "- 단일 레이블, 다중 분류 문제에서는 N개의 클래스에 대한 확률분포를 출력하기 위해 softmax 활성화함수를 사용해야함  \n",
    "\n",
    "- 클래스란..?  \n",
    "  => 분류문제에서 선택할수있는 가능한 레이블의 집합  \n",
    "  => ex) 고양이와 강아지 사진을 분류할때, 클래스는 고양이or강아지 두 개가 됨  \n",
    "  => { x | x 는 \"고양이\" or \"강아지\" }  \n",
    "  \n",
    "- 레이블이란..?  \n",
    "  => 분류문제에서 클래스 할당의 구체적인 사례  \n",
    "  => ex) 29번 사진에 \"강아지\" 클래스가 들어있다고 표시한다면, \"강아지\" 는 32번사진의 \"레이블\" 이 됨  \n",
    "  \n",
    "- 다중 분류 문제에서는 항상 범주형 crossentropy 를 사용해야함  \n",
    "  => 이 함수는 모델이 출력한 확률분포와 타깃분포 사이의 거리를 최소화함 (무슨의민지 잘 모르겠음)  \n",
    "\n",
    "- 다중 분류에서 레이블을 다루는 두가지 방법\n",
    "  1) 범주형인코딩/원핫인코딩 으로 인코딩하고 categorical_crossentropy 손실함수를 사용함\n",
    "  2) 레이블을 정수로 인코딩하고 sparse_catecorical_crossentropy 손실함수를 사용함\n",
    "\n",
    "- 많은 수의 범주를 분류할때 중간층의 크기가 너무 작아 네트워크에 정보병몪이 생기지않도록 주의해야함\n"
   ]
  },
  {
   "cell_type": "markdown",
   "metadata": {},
   "source": [
    "---\n",
    "## 막간 잡담\n",
    "\n",
    "\n",
    "- 공부하는거랑 발표하는거랑 확실히 느낌이 다른것같은데, 다들 발표준비 어떻게 했는지..?  \n",
    "  노태환 : 너무 잘 설명하려고 하지말고~ 구성원들에게 화두를 던지는쪽으로~  \n",
    "  김용한 : 먼저 한번 읽어보고~ 발표하는걸 시뮬레이션~  \n",
    "\n",
    "- 발표준비할때 pdf 자료 + 어도비아크로뱃 활용~!!  \n",
    "  형광펜기능! 코멘트기능!  \n"
   ]
  },
  {
   "cell_type": "markdown",
   "metadata": {},
   "source": [
    "---\n",
    "## 3.6. 주택 가격 예측 : 회귀 문제\n",
    "\n",
    "- 회귀..?  \n",
    "  => 분류문제는 입력에 대한 개별적인 레이블 하나를 예측하는 것이 목적임  \n",
    "  => 회귀문제에서는 개별적인 레이블 대신에 연속적인 값을 예측하는 방식임  \n",
    "  => ex) 기상데이터가 주어졌을때, 내일의 기온을 예측  \n",
    "  => ex) 소프트웨어 명세가 주어졌을때, 소프트웨어 프로젝트가 완료될 시간을 예측  \n",
    "  \n",
    "- \"회귀\" 와 \"로지스틱 회귀\"..?  \n",
    "  로지스틱 회귀는 분류알고리즘임. (회귀 알고리즘이 아님)  \n",
    "\n",
    "- 보스턴 데이터세트 살펴보기  \n",
    "  (보스턴 외곽 지역의 범죄율, 지방세율 등이 주택가격에 어떤 영향을 주는지)  \n",
    "\n",
    "- 스케일이 다르다는 말..?  \n",
    "  0,1 스케일과 0~100% 스케일이 다르다는 말!!  \n",
    "  => ex) 어떤값은 0과 1사이의 비율을 나타내고, 어떤것은 1과 12 사이의 값을 가짐  \n",
    "  \n",
    "- 모델 작성  \n",
    "  목표가 주택가격예측 이므로 스칼라값을 반환하도록 하기위해 맨마지막 층은 1개로  \n",
    "  평균제곱오차 활성함수..? (평균절대오차..?)\n",
    "\n",
    "- 평균제곱오차 손실함수 (mse, mean squared error)  \n",
    "  => 예측과 타깃 사이 거리의 제곱  \n",
    "  \n",
    "- 평균절대오차 활성화함수 (mae, mean absolute error)  \n",
    "  => 예측과 타깃 사이 거리의 절대값  \n",
    "  => ex) MAE가 0.5 면 예측이 평균적으로 500달러(1.0 == 1000달러) 정도 차이난다는 의미임  \n",
    "  \n",
    "- K-겹 교차 검증(K-fold cross-validation) 이란..?  \n",
    "  => 보통 데이터세트를 8:2 로 분리해서 트레이닝과 테스트에 사용함  \n",
    "  => K-겹 교차검증에서는, 데이터세트를 K개로 분할하고,  \n",
    "     K 개의 모델을 각각 만들어서 K-1개의 분할에서 훈련하고,  \n",
    "     나머지 1개 분할에서 평가하는 방법임  \n",
    "  => 모델의 검증점수는 K 개의 검증점수의 평균으로 사용함  \n",
    "  => 데이터 포인트가 많지 않을때 사용하는 검증방법임  \n",
    "  \n",
    "- 지수 이동 평균(exponential moving average) 란..?  \n",
    "  => 시계열 데이터를 부드럽게 만드는 기법  \n"
   ]
  },
  {
   "cell_type": "markdown",
   "metadata": {},
   "source": [
    "### (코드 실습)"
   ]
  },
  {
   "cell_type": "markdown",
   "metadata": {},
   "source": [
    "### (코드 실습 정리)\n",
    "\n",
    "- 회귀문제는 분류문제에서와는 다른 손실함수를 사용함  \n",
    "  => 평균제곱오차(MSE) 는 회귀에서 자주 사용되는 손실함수임  \n",
    "\n",
    "- 평가지표 역시 분류문제와 다른 지표를 사용함  \n",
    "  => 일반적으로 평균절대오차(MAE) 를 평가지표로 사용함  \n",
    "\n",
    "- 입력데이터의 특성이 서로 다른 범위를 가지면,  \n",
    "  전처리단계에서 각 특성의 스케일을 개별적으로 조정해야함  \n",
    "\n",
    "- 가용 데이터가 적을때는, K겹 교차 검증을 활용하여 모델 평가 신뢰도를 올릴수있음\n",
    "\n",
    "- 가용 훈련데이터가 적을때는, 과대적합을 피하기위해 은닉층의 수를 줄인 모델이 좋음  \n",
    "  => 데이터가 적다는 말은, 그 트레이닝 데이터 자체에 모델이 적합해질수 있기때문임  \n",
    "  => 트레이닝 데이터의 특성이 모델에 너무 많이 반영되지 않도록 의도적으로 층을 줄여주는것임\n",
    "  => 데이터세트에 특성이 명확하게 구분되면 은닉층을 얇게!! (유한값)\n",
    "  => 특성이 거의 없는성질이면(이미지) 은닉층을 많이해야!! (무한값)\n"
   ]
  },
  {
   "cell_type": "markdown",
   "metadata": {},
   "source": [
    "---\n",
    "## 3.7. 챕터 정리\n",
    "\n",
    "- 벡터 데이터를 통해서 이진분류, 다중분류, 스칼라회귀 와 같은 일반적인 머신러닝 작업을 다룰수 있음\n",
    "\n",
    "- 일반적으로 원본데이터를 신경망에 주입하기 전에 전처리작업이 필요함\n",
    "\n",
    "- 데이터에 범위가 다른 특성이 있다면, 전처리단계에서 각 특성을 독립적으로 스케일 조정해야 함 ~~(독립적인 속성으로 분리해라는 말인듯)~~\n",
    "\n",
    "- 훈련이 진행됨에 따라 신경망의 과대적합(over-fitting) 이 시작되고, 새로운 데이터에 대해 나쁜 결과가 도출되게 됨\n",
    "\n",
    "- 훈련데이터가 많이 않으면, 1~2개의 은닉층을 신경망에 추가하는것으로 과대적합을 피할수있음\n",
    "\n",
    "- 데이터가 많은 범주로 나뉘어 있을때, 중간층이 너무 작으면 정보의 병목이 생길수 있음 ~~(범주별 연산때문에 병목이 발생한다는 말인듯) (범주를 구분하는 중간층을 추가하면 해결할수있는것으로 보임)~~\n",
    "\n",
    "- 회귀문제는 분류문제와는 전혀 다른 손실함수와 평가지표를 사용함\n",
    "\n",
    "- 적은 데이터를 사용할때는, \"K-겹 검증\" 이 신뢰할수있는 모델 평가를 도와줌 ~~(무슨말인지 모르겠음)~~\n"
   ]
  },
  {
   "cell_type": "markdown",
   "metadata": {},
   "source": [
    "---\n",
    "## (오브더레코드)\n",
    "\n",
    "- 회귀..? 분류..?  \n",
    "  => 분류 와는 다른의미임  \n",
    "  => 분류 는 이러이러한것들인 이 카테고리로 구분된다 와 같은 판단을 확률값으로 계산하는~  \n",
    "  => 최종 결과값이 확률..?  \n",
    "  \n",
    "- 그렇다면 회귀는 무엇인가?  \n",
    "  => 회귀는 이러이러한 추세를 봤을때 이 다음은 이러이러할것이다 라는것을 계산하는~  \n",
    "  => 다음 값을 예측하는것이기때문에 보통 스칼라값이 나옴  \n",
    "  => 최종 결과 값이 스칼라..?  \n",
    "\n",
    "- plot 을 보면서 오버피팅 찾는 방법..?  \n",
    "  => loss 값이 최소인 부분을 찾아서 에포크를 찾고, 그 에포크 값으로 모델을 재학습시킴  \n",
    "  => 보통 이차함수 형태로 나타나는 loss 함수에서 loss값이 0으로 수렴하다가 다시 상승하는 현상이 나타남  \n",
    "  => loss 값이 0 으로 수렴하도록 하는것이 모델의 목표이기 때문에   \n",
    "  => 즉 최소값이 (미분계수가 0이되는 시점)  \n",
    "\n",
    "- 2명이 준비하는 방식에서 발표를 어떻게..?  \n",
    "  => 한명은 이론 한명은 코드를 담당하는 방식  \n",
    "  => 범위를 정해서 각자 담당하는 방식  \n",
    "  => 한명은 전체 개괄을 준비하고, 한명은 디테일한 내용을 준비하는 방식  \n",
    "  => 각자 자기가 공부한 부분을 공유하면서 피드백 (나는 이렇이렇게 이해를 했다~ 나는 저러저렇게도 보인다)  \n",
    "  => 준비하는 사람들끼리 직접 연락보다는, 전체카톡방에서 의견 나누는게 좀더 편할듯함  \n",
    "  \n",
    "- 질문목록 정리  \n",
    "  => 각자 쓰기권한 참여~  \n",
    "\n"
   ]
  }
 ],
 "metadata": {
  "kernelspec": {
   "display_name": "Python 3",
   "language": "python",
   "name": "python3"
  },
  "language_info": {
   "codemirror_mode": {
    "name": "ipython",
    "version": 3
   },
   "file_extension": ".py",
   "mimetype": "text/x-python",
   "name": "python",
   "nbconvert_exporter": "python",
   "pygments_lexer": "ipython3",
   "version": "3.6.8"
  }
 },
 "nbformat": 4,
 "nbformat_minor": 2
}
