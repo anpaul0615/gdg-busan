{
 "cells": [
  {
   "cell_type": "markdown",
   "metadata": {
    "deletable": true,
    "editable": true
   },
   "source": [
    "# Ch03. Conway"
   ]
  },
  {
   "cell_type": "markdown",
   "metadata": {
    "deletable": true,
    "editable": true
   },
   "source": [
    "## 1. 그리드 맵"
   ]
  },
  {
   "cell_type": "code",
   "execution_count": 1,
   "metadata": {
    "collapsed": false,
    "deletable": true,
    "editable": true
   },
   "outputs": [],
   "source": [
    "import numpy as np\n",
    "import matplotlib.pyplot as plt\n",
    "import matplotlib.animation as animation\n",
    "\n",
    "ON = 255\n",
    "OFF = 0"
   ]
  },
  {
   "cell_type": "markdown",
   "metadata": {
    "deletable": true,
    "editable": true
   },
   "source": [
    "## 2. 랜덤 그리드 추가"
   ]
  },
  {
   "cell_type": "code",
   "execution_count": 2,
   "metadata": {
    "collapsed": false,
    "deletable": true,
    "editable": true
   },
   "outputs": [],
   "source": [
    "def addRandomGrid(N):\n",
    "    return np.random.choice([ON,OFF], N*N, p=[0.1, 0.9]).reshape(N,N)"
   ]
  },
  {
   "cell_type": "markdown",
   "metadata": {
    "deletable": true,
    "editable": true
   },
   "source": [
    "## 3. 글라이더 그리드 추가"
   ]
  },
  {
   "cell_type": "code",
   "execution_count": 3,
   "metadata": {
    "collapsed": true,
    "deletable": true,
    "editable": true
   },
   "outputs": [],
   "source": [
    "def addGlider(i, j, grid):\n",
    "    glider = np.array([\n",
    "        [0,0,255],\n",
    "        [255,0,255],\n",
    "        [0,255,255]\n",
    "    ])\n",
    "    grid[i:i+3, j:j+3] = glider"
   ]
  },
  {
   "cell_type": "markdown",
   "metadata": {
    "deletable": true,
    "editable": true
   },
   "source": [
    "## 4. 그리드 갱신"
   ]
  },
  {
   "cell_type": "code",
   "execution_count": 4,
   "metadata": {
    "collapsed": true,
    "deletable": true,
    "editable": true
   },
   "outputs": [],
   "source": [
    "def update(frameNum, img, grid, N):\n",
    "    newGrid = grid.copy()\n",
    "    for i in range(N):\n",
    "        for j in range(N):\n",
    "            total = int(\n",
    "                (\n",
    "                    grid[i,(j-1)%N] + grid[i,(j+1)%N] + \n",
    "                    grid[(i-1)%N,j] + grid[(i+1)%N,j] + \n",
    "                    grid[(i-1)%N,(j-1)%N] + grid[(i-1)%N,(j+1)%N] + \n",
    "                    grid[(i+1)%N,(j-1)%N] + grid[(i+1)%N,(j+1)%N]\n",
    "                ) / 255\n",
    "            )\n",
    "            if grid[i,j] == ON:\n",
    "                if (total<2) or (total>3):\n",
    "                    newGrid[i,j] = OFF\n",
    "            else:\n",
    "                if total == 3:\n",
    "                    newGrid[i,j] = ON\n",
    "    img.set_data(newGrid)\n",
    "    grid[:] = newGrid[:]\n",
    "    return img,"
   ]
  },
  {
   "cell_type": "markdown",
   "metadata": {
    "deletable": true,
    "editable": true
   },
   "source": [
    "## 5. 실행"
   ]
  },
  {
   "cell_type": "code",
   "execution_count": 5,
   "metadata": {
    "collapsed": false,
    "deletable": true,
    "editable": true
   },
   "outputs": [
    {
     "data": {
      "image/png": "[encoded data removed]",
      "text/plain": [
       "<matplotlib.figure.Figure at 0x660b350>"
      ]
     },
     "metadata": {},
     "output_type": "display_data"
    }
   ],
   "source": [
    "# 그리드 맵 선언\n",
    "N = 50\n",
    "grid = np.array([])\n",
    "grid = np.zeros(N*N).reshape(N, N)\n",
    "\n",
    "# 랜덤 그리드 추가\n",
    "# grid = addRandomGrid(N)\n",
    "\n",
    "# 글라인더 그리드 추가\n",
    "addGlider(1, 1, grid)\n",
    "addGlider(1, 11, grid)\n",
    "addGlider(1, 21, grid)\n",
    "addGlider(1, 31, grid)\n",
    "\n",
    "# 애니메이션 설정\n",
    "fig, ax = plt.subplots()\n",
    "img = ax.imshow(grid, interpolation='nearest')\n",
    "anim = animation.FuncAnimation(\n",
    "    fig, update, fargs=(img, grid, N,),\n",
    "    frames=10, interval=50, save_count=50)  \n",
    "plt.show()"
   ]
  },
  {
   "cell_type": "markdown",
   "metadata": {
    "deletable": true,
    "editable": true
   },
   "source": [
    "## 6. 출력"
   ]
  },
  {
   "cell_type": "code",
   "execution_count": 6,
   "metadata": {
    "collapsed": false,
    "deletable": true,
    "editable": true
   },
   "outputs": [
    {
     "data": {
      "text/html": [
       "<img src=\"conway.gif\"/>"
      ],
      "text/plain": [
       "<IPython.core.display.Image object>"
      ]
     },
     "execution_count": 6,
     "metadata": {},
     "output_type": "execute_result"
    }
   ],
   "source": [
    "import IPython.display\n",
    "\n",
    "# 그리드 맵 선언\n",
    "N = 50\n",
    "grid = np.array([])\n",
    "grid = np.zeros(N*N).reshape(N, N)\n",
    "\n",
    "# 랜덤 그리드 추가\n",
    "grid = addRandomGrid(N)\n",
    "\n",
    "# 애니메이션 설정\n",
    "fig, ax = plt.subplots()\n",
    "img = ax.imshow(grid, interpolation='nearest')\n",
    "anim = animation.FuncAnimation(fig, update, fargs=(img, grid, N,), frames=80)\n",
    "\n",
    "# 애니메이션 저장 (with imagemagick)\n",
    "anim.save('./conway.gif', writer='imagemagick', fps=80)\n",
    "\n",
    "# 애니메이션 출력\n",
    "IPython.display.Image(url='conway.gif')"
   ]
  }
 ],
 "metadata": {
  "kernelspec": {
   "display_name": "Python 3",
   "language": "python",
   "name": "python3"
  },
  "language_info": {
   "codemirror_mode": {
    "name": "ipython",
    "version": 3
   },
   "file_extension": ".py",
   "mimetype": "text/x-python",
   "name": "python",
   "nbconvert_exporter": "python",
   "pygments_lexer": "ipython3",
   "version": "3.5.2"
  }
 },
 "nbformat": 4,
 "nbformat_minor": 2
}
