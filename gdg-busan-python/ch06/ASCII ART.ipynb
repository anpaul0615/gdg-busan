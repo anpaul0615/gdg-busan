{
 "cells": [
  {
   "cell_type": "markdown",
   "metadata": {},
   "source": [
    "# Ch04. ASCII ART"
   ]
  },
  {
   "cell_type": "markdown",
   "metadata": {},
   "source": [
    "## 1. 그레이스케일"
   ]
  },
  {
   "cell_type": "code",
   "execution_count": 1,
   "metadata": {
    "collapsed": false
   },
   "outputs": [],
   "source": [
    "import numpy as np\n",
    "import math\n",
    "\n",
    "from PIL import Image\n",
    "\n",
    "# gray scale level values from: \n",
    "# http://paulbourke.net/dataformats/asciiart/\n",
    "\n",
    "# 70 levels of gray\n",
    "gscale1 = \"$@B%8&WM#*oahkbdpqwmZO0QLCJUYXzcvunxrjft/\\|()1{}[]?-_+~<>i!lI;:,\\\"^`'. \"\n",
    "# 10 levels of gray\n",
    "gscale2 = \"@%#*+=-:. \""
   ]
  },
  {
   "cell_type": "markdown",
   "metadata": {},
   "source": [
    "## 2. 평균밝기 계산"
   ]
  },
  {
   "cell_type": "code",
   "execution_count": 2,
   "metadata": {
    "collapsed": true
   },
   "outputs": [],
   "source": [
    "def getAverageL(image):\n",
    "    img = np.array(image)\n",
    "    w,h = img.shape\n",
    "    return np.average(img.reshape(w*h))"
   ]
  },
  {
   "cell_type": "markdown",
   "metadata": {},
   "source": [
    "## 3. 아스키코드 치환"
   ]
  },
  {
   "cell_type": "code",
   "execution_count": 3,
   "metadata": {
    "collapsed": true
   },
   "outputs": [],
   "source": [
    "def convertImageToAscii(filename, cols, scale):\n",
    "    global gscale1, gscale2\n",
    "    \n",
    "    # 이미지를 열고 그레이스케일로 변환한다\n",
    "    image = Image.open(filename).convert('L')\n",
    "    \n",
    "    # 이미지 폭,높이\n",
    "    W,H = image.size[0], image.size[1]\n",
    "    print(\"image size : %d x %d\" %(W,H))\n",
    "    \n",
    "    # 타일 폭,높이,행\n",
    "    w = W/cols\n",
    "    h = w/scale\n",
    "    rows = int(H/h)\n",
    "    print(\"tile size : %d x %d\" %(w,h))\n",
    "    print(\"tile cols : %d\" %(cols))\n",
    "    print(\"tile rows : %d\" %(rows))\n",
    "    \n",
    "    # 이미지 사이즈 검사\n",
    "    if cols > W or rows > H:\n",
    "        print(\"image too samll for specified cols.\")\n",
    "        exit(0)\n",
    "    \n",
    "    # 아스키코드 변환\n",
    "    aimg = []\n",
    "    for j in range(rows):\n",
    "        y1 = int(j*h)\n",
    "        y2 = int((j+1)*h)\n",
    "        \n",
    "        if j == rows-1:\n",
    "            y2 = H\n",
    "        \n",
    "        aimg.append(\"\")\n",
    "        for i in range(cols):\n",
    "            x1 = int(i*w)\n",
    "            x2 = int((i+1)*w)\n",
    "            \n",
    "            if i == cols-1:\n",
    "                x2 = W\n",
    "            \n",
    "            img = image.crop((x1,y1,x2,y2))\n",
    "            avg = int(getAverageL(img))\n",
    "            gsval = gscale1[int((avg*69/255))]\n",
    "            aimg[j] += gsval\n",
    "            \n",
    "    return aimg"
   ]
  },
  {
   "cell_type": "markdown",
   "metadata": {},
   "source": [
    "## 4. 실행"
   ]
  },
  {
   "cell_type": "code",
   "execution_count": 4,
   "metadata": {
    "collapsed": false
   },
   "outputs": [
    {
     "name": "stdout",
     "output_type": "stream",
     "text": [
      "generating ASCII art...\n",
      "image size : 700 x 750\n",
      "tile size : 8 x 21\n",
      "tile cols : 80\n",
      "tile rows : 34\n",
      "ASCII art written to pikachu.txt\n"
     ]
    }
   ],
   "source": [
    "# 이미지 파일, 아스키코드 파일\n",
    "imgFile = 'pikachu.jpg'\n",
    "outFile = 'pikachu.txt'\n",
    "\n",
    "# 스케일, 너비\n",
    "scale = 0.40\n",
    "cols = 80\n",
    "\n",
    "# 변환시작\n",
    "print('generating ASCII art...')\n",
    "aimg = convertImageToAscii(imgFile, cols, scale)\n",
    "f = open(outFile, 'w')\n",
    "for row in aimg:\n",
    "    f.write(row + '\\n')\n",
    "f.close()\n",
    "print(\"ASCII art written to %s\" % outFile)"
   ]
  },
  {
   "cell_type": "markdown",
   "metadata": {},
   "source": [
    "## 5. 출력"
   ]
  },
  {
   "cell_type": "code",
   "execution_count": 5,
   "metadata": {
    "collapsed": false
   },
   "outputs": [
    {
     "name": "stdout",
     "output_type": "stream",
     "text": [
      "                                                           .'+tU)               \n",
      "                                                       ..ixp@$$@<               \n",
      "                                                     .~(1+%$$$$|                \n",
      "                                                   \"(\\>. .m$$B{.                \n",
      "                                                .,({`.   .0$di.                 \n",
      "                                               `(}.     .;a|..                  \n",
      "..^;lllI;:\"'.. .                             .-|`.     '(j^.                    \n",
      "`Q$$$$$$pi<_??-_+~~<<>:.   .'!----__+++_--_I,\\i.     .?(,                       \n",
      " .It0M$$$Q\"       ....;~+}?~~,.. .... . ..'{\\.     .?{,   ..+]]]];.             \n",
      "    ..,-\\cU[+<I`.... .:...                 .    .,??^   .,]?^. ..>[}[,..        \n",
      "           ..':>++++|Y!.                       .:r|.  ._[~.        .`-(|?`.     \n",
      "                   iu')x)l         .;){YL(.      .|-I(1,               .l|t),.  \n",
      "                  .z'j$u(m.        .Qv_r$$(       .q1'                   .I]f^  \n",
      "                 .({.lU0Y<.`,'     .\"nmdOjIi:..    Q.                .`-?-;.    \n",
      "                 ?r-.      ,?`          ]?:';-[.  .L.             .^?]?`.       \n",
      "                .v`[!.  .:++~___]^     .t^   't.  `z.           '~_~.           \n",
      "                 Iz{.                   .>>>~+'   {?.          .1?]?;.          \n",
      "                  `11!                            n[++I'...      ..^+{11};.     \n",
      "                    .i[}:.                        _(..;+--?(;.         .:tf`    \n",
      "                      .Y<>`                       .}?. ..~}!..    ..I---i..     \n",
      "                      ~\\               .          .:f]'[{;.     I]]]l..         \n",
      "                      x,     .i.      l;.     .'. -+!jc~><!'..  !_][-` .        \n",
      "                     `p.     .n.     ^c.      .].     rI .\">~-}.   .^+?1'       \n",
      "                     ut+     .0     .t~      .t,      'U...+}-.  .\"+_?+`        \n",
      "                    :u^Y.    ,X.    .U.     ./~.    `+-)f}{: .`_??>..           \n",
      "                    )_.\\]    :f.    `X.    ifI      \"ii<m.'+]]-`                \n",
      "                    x; ^j?}~}1:     ;1[[+][t.          .Z??\".                   \n",
      "                    +\\  ....         ...'..            ]|.                      \n",
      "                    .[('.                            .](.                       \n",
      "                      IO|[>,'.'\"I<~~+__--<l\".    .:_}z;                         \n",
      "                    ^)}^ .,!-nc?I^.     .\"!+-?tX-->`.-?                         \n",
      "                   \"O\\)]~~+-+'                .;{-'-\"?n                         \n",
      "                   .>-~:..                      .:(rYxO                         \n",
      "                                                   .I<,                         \n",
      "\n"
     ]
    }
   ],
   "source": [
    "with open('pikachu.txt') as f:\n",
    "    print(f.read())"
   ]
  }
 ],
 "metadata": {
  "kernelspec": {
   "display_name": "Python 3",
   "language": "python",
   "name": "python3"
  },
  "language_info": {
   "codemirror_mode": {
    "name": "ipython",
    "version": 3
   },
   "file_extension": ".py",
   "mimetype": "text/x-python",
   "name": "python",
   "nbconvert_exporter": "python",
   "pygments_lexer": "ipython3",
   "version": "3.5.2"
  }
 },
 "nbformat": 4,
 "nbformat_minor": 2
}
