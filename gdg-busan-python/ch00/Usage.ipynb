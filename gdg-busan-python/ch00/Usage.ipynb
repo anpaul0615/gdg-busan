{
 "cells": [
  {
   "cell_type": "markdown",
   "metadata": {
    "deletable": true,
    "editable": true
   },
   "source": [
    "# Ch00. Usage"
   ]
  },
  {
   "cell_type": "markdown",
   "metadata": {
    "deletable": true,
    "editable": true
   },
   "source": [
    "## 1. Helloworld"
   ]
  },
  {
   "cell_type": "code",
   "execution_count": 1,
   "metadata": {
    "collapsed": false,
    "deletable": true,
    "editable": true
   },
   "outputs": [
    {
     "name": "stdout",
     "output_type": "stream",
     "text": [
      "hello\n"
     ]
    }
   ],
   "source": [
    "print(\"hello\")"
   ]
  },
  {
   "cell_type": "markdown",
   "metadata": {
    "deletable": true,
    "editable": true
   },
   "source": [
    "## 2. Data Type"
   ]
  },
  {
   "cell_type": "code",
   "execution_count": 2,
   "metadata": {
    "collapsed": false,
    "deletable": true,
    "editable": true
   },
   "outputs": [],
   "source": [
    "# 숫자형 자료\n",
    "_num = 100\n",
    "\n",
    "# 문자형 자료\n",
    "_string = 'hello'\n",
    "\n",
    "# 리스트, 자료들의 모임\n",
    "_list = [1,3,5,7,9]\n",
    "\n",
    "# 튜플, 수정불가능한 자료들의 모임(immutable)\n",
    "_tuple = (2,4,6,8,10,)\n",
    "\n",
    "# 딕셔너리, 키-값 쌍의 모임\n",
    "_dict = {'name':'paul','age':'27'}\n",
    "\n",
    "# 집합, 순서가 없는 유일한 값들의 모임\n",
    "_set = set('hello')"
   ]
  },
  {
   "cell_type": "code",
   "execution_count": 3,
   "metadata": {
    "collapsed": false,
    "deletable": true,
    "editable": true
   },
   "outputs": [
    {
     "name": "stdout",
     "output_type": "stream",
     "text": [
      "<class 'int'>\n",
      "100\n",
      "<class 'str'>\n",
      "hello\n",
      "<class 'list'>\n",
      "[1, 3, 5, 7, 9]\n",
      "<class 'tuple'>\n",
      "(2, 4, 6, 8, 10)\n",
      "<class 'dict'>\n",
      "{'name': 'paul', 'age': '27'}\n",
      "<class 'set'>\n",
      "{'o', 'l', 'h', 'e'}\n"
     ]
    }
   ],
   "source": [
    "print(type(_num))\n",
    "print(_num)\n",
    "\n",
    "print(type(_string))\n",
    "print(_string)\n",
    "\n",
    "print(type(_list))\n",
    "print(_list)\n",
    "\n",
    "print(type(_tuple))\n",
    "print(_tuple)\n",
    "\n",
    "print(type(_dict))\n",
    "print(_dict)\n",
    "\n",
    "print(type(_set))\n",
    "print(_set)"
   ]
  },
  {
   "cell_type": "markdown",
   "metadata": {
    "deletable": true,
    "editable": true
   },
   "source": [
    "## 3. Conditional"
   ]
  },
  {
   "cell_type": "code",
   "execution_count": 4,
   "metadata": {
    "collapsed": false,
    "deletable": true,
    "editable": true
   },
   "outputs": [
    {
     "name": "stdout",
     "output_type": "stream",
     "text": [
      "true\n"
     ]
    }
   ],
   "source": [
    "a,b = 1,1\n",
    "if(a==b):\n",
    "    print(\"true\")\n",
    "else:\n",
    "    print(\"false\")"
   ]
  },
  {
   "cell_type": "code",
   "execution_count": 5,
   "metadata": {
    "collapsed": false,
    "deletable": true,
    "editable": true
   },
   "outputs": [
    {
     "name": "stdout",
     "output_type": "stream",
     "text": [
      "bar\n"
     ]
    }
   ],
   "source": [
    "a,b = 1,10\n",
    "print(\"foo\" if a == b else \"bar\")"
   ]
  },
  {
   "cell_type": "markdown",
   "metadata": {
    "deletable": true,
    "editable": true
   },
   "source": [
    "## 4. Generator & Loop"
   ]
  },
  {
   "cell_type": "code",
   "execution_count": 6,
   "metadata": {
    "collapsed": false,
    "deletable": true,
    "editable": true
   },
   "outputs": [
    {
     "name": "stdout",
     "output_type": "stream",
     "text": [
      "1,2,3,4,5,6,7,8,9,"
     ]
    }
   ],
   "source": [
    "def enum(x,y):\n",
    "    while(True):\n",
    "        if(x==y): break\n",
    "        yield x \n",
    "        x += 1\n",
    "\n",
    "for n in enum(1,10):\n",
    "    print(n, end=\",\")"
   ]
  },
  {
   "cell_type": "code",
   "execution_count": 7,
   "metadata": {
    "collapsed": false,
    "deletable": true,
    "editable": true
   },
   "outputs": [
    {
     "name": "stdout",
     "output_type": "stream",
     "text": [
      "hello\n"
     ]
    }
   ],
   "source": [
    "print('hello')"
   ]
  },
  {
   "cell_type": "markdown",
   "metadata": {
    "deletable": true,
    "editable": true
   },
   "source": [
    "## 5. OOP"
   ]
  },
  {
   "cell_type": "code",
   "execution_count": 8,
   "metadata": {
    "collapsed": false,
    "deletable": true,
    "editable": true
   },
   "outputs": [],
   "source": [
    "class Person:\n",
    "    def setName(self,name):\n",
    "        self.name = name\n",
    "    \n",
    "    def setAge(self,age):\n",
    "        self.age = age\n",
    "    \n",
    "    def introduce(self):\n",
    "        print(\"My name is\", self.name)\n",
    "        \n",
    "        \n",
    "class Developer(Person):\n",
    "    def __init__(self,name,age,lang):\n",
    "        self.name = name\n",
    "        self.age = age\n",
    "        self.lang = lang\n",
    "        \n",
    "    def introduce(self):\n",
    "        print(\"My name is %s and I'm %s developer.\" %(self.name, self.lang))\n",
    "        \n",
    "        \n",
    "class Designer(Person):\n",
    "    def __init__(self,name,age,tool):\n",
    "        self.name = name\n",
    "        self.age = age\n",
    "        self.tool = tool\n",
    "        \n",
    "    def introduce(self):\n",
    "        print(\"My name is %s and I'm %s designer.\" %(self.name, self.tool))"
   ]
  },
  {
   "cell_type": "code",
   "execution_count": 9,
   "metadata": {
    "collapsed": false,
    "deletable": true,
    "editable": true
   },
   "outputs": [
    {
     "name": "stdout",
     "output_type": "stream",
     "text": [
      "My name is foo\n",
      "My name is bar and I'm python developer.\n",
      "My name is baz and I'm photoshop designer.\n"
     ]
    }
   ],
   "source": [
    "A = Person()\n",
    "A.setName(\"foo\")\n",
    "A.setAge(30)\n",
    "A.introduce()\n",
    "\n",
    "B = Developer(\"bar\",31,\"python\")\n",
    "B.introduce()\n",
    "\n",
    "C = Designer(\"baz\",27,\"photoshop\")\n",
    "C.introduce()\n"
   ]
  }
 ],
 "metadata": {
  "kernelspec": {
   "display_name": "Python 3",
   "language": "python",
   "name": "python3"
  },
  "language_info": {
   "codemirror_mode": {
    "name": "ipython",
    "version": 3
   },
   "file_extension": ".py",
   "mimetype": "text/x-python",
   "name": "python",
   "nbconvert_exporter": "python",
   "pygments_lexer": "ipython3",
   "version": "3.5.2"
  }
 },
 "nbformat": 4,
 "nbformat_minor": 2
}
