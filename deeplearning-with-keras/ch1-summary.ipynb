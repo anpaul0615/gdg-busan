{
 "cells": [
  {
   "cell_type": "markdown",
   "metadata": {},
   "source": [
    "# ch1-summary"
   ]
  },
  {
   "cell_type": "markdown",
   "metadata": {},
   "source": [
    "## 1.1. 인공지능 머신러닝 딥러닝"
   ]
  },
  {
   "cell_type": "markdown",
   "metadata": {},
   "source": [
    "- 심볼릭 AI 란..?  \n",
    ":: 조건문 체이닝~~  \n",
    ":: 복잡한 문장에 대한 한계  \n",
    "\n",
    "- 머신러닝의 본질..?  \n",
    ":: 입력과 출력으로 함수를 만드는~  \n",
    "::  \n",
    "\n",
    "- 수리통계와의 관계..?  \n",
    "\n",
    "- 머신러닝은 입력은 의미있는 출력응로 변환함  \n",
    ":: 입력을 기대출력에 가깝게 만드는 표현(representation)  \n",
    "::  \n",
    "\n",
    "- 딥러닝의 딥 이란?  \n",
    ":: 머신러닝에서 여러가지 층을 만들어서 표현(representation) 을 만드는...?  \n",
    ":: 층(layer) == 표현(representation)..?  \n",
    ":: 학습이란, 주어진 입력을 기대값에 가까운 값으로 만들기위한 일련의 과정~  \n",
    ":: 각각의 층마다 가중치를 가지고있음~  \n",
    ":: 가중치에 대한 값을 찾아가는 과정~  \n",
    "\n",
    "- 신경망을 평가하는 방법 ..?  \n",
    ":: 평가함수는 \"손실함수/목적함수\" 라고 함  \n",
    ":: 예측과 진짜타깃을 비교해서 \"손실점수\" 를 산정~  \n",
    "::\n",
    "\n",
    "- 역전파?  \n",
    "::  \n",
    "\n",
    "- 옵티마이저?  \n",
    ":: 손실점수를 옵티마이저가 가중치를 업데이트함  \n",
    ":: 가중치를 교정 + 각 층마다 가중치를 업데이트~  \n",
    ":: 이런 일련의 과정을 반복~  \n",
    "::  \n",
    "\n",
    "- 특성공학?  \n",
    ":: 모델을 만들때~  히스토그램 등으로 의미있는 변수를 찾는 과정~\n",
    ":: 사람이 직접 해야하는 전처리과정을 줄여주는 단계~  \n",
    ":: \n"
   ]
  }
 ],
 "metadata": {
  "kernelspec": {
   "display_name": "Python 3",
   "language": "python",
   "name": "python3"
  },
  "language_info": {
   "codemirror_mode": {
    "name": "ipython",
    "version": 3
   },
   "file_extension": ".py",
   "mimetype": "text/x-python",
   "name": "python",
   "nbconvert_exporter": "python",
   "pygments_lexer": "ipython3",
   "version": "3.6.8"
  }
 },
 "nbformat": 4,
 "nbformat_minor": 2
}
