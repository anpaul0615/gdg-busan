{
 "cells": [
  {
   "cell_type": "markdown",
   "metadata": {},
   "source": [
    "# Modern CNNs"
   ]
  },
  {
   "cell_type": "markdown",
   "metadata": {},
   "source": [
    "- 정진우 (speedcore@pusan.ac.kr)\n",
    "\n",
    "- 2016년 기준"
   ]
  },
  {
   "cell_type": "markdown",
   "metadata": {},
   "source": [
    "## CNN Architecture \n",
    "\n",
    "- AlexNet, VGG, GoogLeNet, ResNet\n",
    "\n",
    "- 시간이 지날수록 에러 감소 + 레이어수 증가\n",
    "\n",
    "\n",
    "### AlexNet\n",
    "\n",
    "- CNN 이 시작된 최초의 네트워크 (CNN의 시초)  \n",
    "  대회에서 좋은성적을 기록하는것으로 매우 인기있게됨\n",
    "\n",
    "- 두개의 GPU 레이어로 병렬네트워크를 구성해서 컨브넷+분류넷 으로 데이터처리 진행\n",
    "\n",
    "- ReLU 함수..?  \n",
    "  이시기에는 tanh 를 주로 사용했었음  \n",
    "  성능상 relu 가 훨씬 더 좋은 성능  \n",
    "  요즘에는 분류기에서는 거의 relu 를 사용함\n",
    "\n",
    "- 이미지증식..?  \n",
    "  이 시기에는 이미지증식을 사진을 crop + flip 해서 사용했음  \n",
    "  alexnet 은 원본이미지보다 약간 작은 사이즈의 윈도우를 미세하게 위치를 바꿔가면서 이미지수 늘림\n",
    "\n",
    "- 드롭아웃..?\n",
    "  알렉스넷은 0.5 로 설정해서 사용했었음\n",
    "\n",
    "- 컨브넷2D..?\n",
    "  \n",
    "\n",
    "### VGG\n",
    "\n",
    "- 컨브넷 + 맥스풀링 계층으로 구성되어있음 (생각보다 단순)\n",
    "\n",
    "- 팀 이름이 VGG 라서 VGG 라고 불림\n",
    "\n",
    "\n",
    "### GooLeNet\n",
    "\n",
    "- 이름의 유래?  \n",
    "  => 구글에서 만든 우편물 분류 모델 LeNet 의 아이디어를 채택해서 재구성한~~ \n",
    "\n",
    "- Inception Module..?\n",
    "  \n",
    "- One by one convolution..? (중요!)  \n",
    "  중간에 1 * 1 계층을 추가해서 계산하는것으로 파라미터 개수를 줄일수있음!!  \n",
    "  매우 혁명적인 아이디어!! 지금까지 매우 잘 사용되고있음!\n",
    "\n",
    "- 각각의 필터에 대해 1 * 1 컨볼루션을 하는 이유..?  \n",
    "  => 찾고싶은 이미지가있을때, 해당 이미지의 사이즈가 크거나 작거나 상관없이 식별할수있도록 하기위해..?\n",
    "\n",
    "- ResNet v1 에서도 1 * 1 컨볼루션이 들어가있음\n",
    "\n",
    "\n",
    "### ResNet\n",
    "\n",
    "- Deep residual networks  \n",
    "  수많은 분야에 수상 => 상당히 일반적인 네트워크라고 볼수있음\n",
    "\n",
    "- 네트워크의 깊이가 깊으면 좋은가? 라는 의문에서 시작했음  \n",
    "\n",
    "- 오버피팅과 degradation prolem(층이내려갈수록 성능이 떨어지는문제) 을 위주로 고려함\n",
    "\n",
    "- 어떻게 동작하는가..?  \n",
    "  뉴럴넷을 계산한 결과값에 원래의 입력을 더해줌 => 입력과 출력의 차이점만 주목하겠다!!  \n",
    "\n",
    "- 단점..?  \n",
    "  입력과 출력을 비교해야하므로 same dimension 에서만 동작가능함\n",
    "\n",
    "- 1 * 1 컨볼루션으로 디멘션을 늘리고 파라미터를 줄여서 더 성능을 좋게 만들었음\n",
    "\n",
    "- 기본적으로 층을 깊게하면할수록 성능이 올라가지만,  \n",
    "  일정수준범위를 벗어나게되면 성능이 떨어지게됨\n",
    "\n"
   ]
  }
 ],
 "metadata": {
  "kernelspec": {
   "display_name": "Python 3",
   "language": "python",
   "name": "python3"
  },
  "language_info": {
   "codemirror_mode": {
    "name": "ipython",
    "version": 3
   },
   "file_extension": ".py",
   "mimetype": "text/x-python",
   "name": "python",
   "nbconvert_exporter": "python",
   "pygments_lexer": "ipython3",
   "version": "3.6.8"
  }
 },
 "nbformat": 4,
 "nbformat_minor": 2
}
