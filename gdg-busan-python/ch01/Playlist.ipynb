{
 "cells": [
  {
   "cell_type": "markdown",
   "metadata": {
    "deletable": true,
    "editable": true
   },
   "source": [
    "# Ch01. Playlist"
   ]
  },
  {
   "cell_type": "markdown",
   "metadata": {
    "deletable": true,
    "editable": true
   },
   "source": [
    "## 1. 중복곡 찾기"
   ]
  },
  {
   "cell_type": "code",
   "execution_count": 1,
   "metadata": {
    "collapsed": false,
    "deletable": true,
    "editable": true
   },
   "outputs": [],
   "source": [
    "import plistlib\n",
    "\n",
    "def findDuplicates(fileName):\n",
    "    print('중복곡을 찾습니다..(%s)' %fileName)\n",
    "    plist = plistlib.readPlist(fileName)\n",
    "    tracks = plist['Tracks']\n",
    "    trackNames = {}\n",
    "    for trackId, track in tracks.items():\n",
    "        try:\n",
    "            name = track['Name']\n",
    "            duration = track['Total Time']\n",
    "            if name in trackNames:\n",
    "                if duration//1000 == trackNames[name][0]//1000:\n",
    "                    count = trackNames[name][1]\n",
    "                    trackNames[name] = (duration, count+1)\n",
    "            else:\n",
    "                trackNames[name] = (duration, 1)\n",
    "        except:\n",
    "            pass"
   ]
  },
  {
   "cell_type": "code",
   "execution_count": 2,
   "metadata": {
    "collapsed": false,
    "deletable": true,
    "editable": true
   },
   "outputs": [
    {
     "name": "stdout",
     "output_type": "stream",
     "text": [
      "중복곡을 찾습니다..(mymusic.xml)\n"
     ]
    },
    {
     "name": "stderr",
     "output_type": "stream",
     "text": [
      "c:\\users\\paul\\desktop\\gdg-busan\\gdg-busan-python\\venv\\lib\\site-packages\\ipykernel\\__main__.py:5: DeprecationWarning: The readPlist function is deprecated, use load() instead\n"
     ]
    }
   ],
   "source": [
    "findDuplicates('mymusic.xml')"
   ]
  },
  {
   "cell_type": "markdown",
   "metadata": {
    "deletable": true,
    "editable": true
   },
   "source": [
    "## 2. deprecated 된 readPlist() 를 해결해보자"
   ]
  },
  {
   "cell_type": "code",
   "execution_count": 3,
   "metadata": {
    "collapsed": true,
    "deletable": true,
    "editable": true
   },
   "outputs": [],
   "source": [
    "import plistlib\n",
    "\n",
    "def findDuplicates2(fileName):\n",
    "    print('중복곡을 찾습니다..(%s)' %fileName)\n",
    "    with open(fileName,'rb') as fp:\n",
    "        plist = plistlib.load(fp)\n",
    "    tracks = plist['Tracks']\n",
    "    trackNames = {}\n",
    "    for trackId, track in tracks.items():\n",
    "        try:\n",
    "            name = track['Name']\n",
    "            duration = track['Total Time']\n",
    "            if name in trackNames:\n",
    "                if duration//1000 == trackNames[name][0]//1000:\n",
    "                    count = trackNames[name][1]\n",
    "                    trackNames[name] = (duration, count+1)\n",
    "            else:\n",
    "                trackNames[name] = (duration, 1)\n",
    "        except:\n",
    "            pass"
   ]
  },
  {
   "cell_type": "code",
   "execution_count": 4,
   "metadata": {
    "collapsed": false,
    "deletable": true,
    "editable": true
   },
   "outputs": [
    {
     "name": "stdout",
     "output_type": "stream",
     "text": [
      "중복곡을 찾습니다..(mymusic.xml)\n"
     ]
    }
   ],
   "source": [
    "findDuplicates2('mymusic.xml')"
   ]
  },
  {
   "cell_type": "markdown",
   "metadata": {
    "deletable": true,
    "editable": true
   },
   "source": [
    "## 3. 중복곡 추출하기"
   ]
  },
  {
   "cell_type": "code",
   "execution_count": 5,
   "metadata": {
    "collapsed": true,
    "deletable": true,
    "editable": true
   },
   "outputs": [],
   "source": [
    "import plistlib\n",
    "\n",
    "def findDuplicates3(fileName):\n",
    "    print('중복곡을 찾습니다..(%s)' %fileName)\n",
    "    \n",
    "    # 파일을 열어서 파일객체를 전달한다\n",
    "    with open(fileName,'rb') as fp:\n",
    "        plist = plistlib.load(fp)\n",
    "        \n",
    "    tracks = plist['Tracks']\n",
    "    trackNames = {}\n",
    "    for trackId, track in tracks.items():\n",
    "        try:\n",
    "            name = track['Name']\n",
    "            duration = track['Total Time']\n",
    "            if name in trackNames:\n",
    "                if duration//1000 == trackNames[name][0]//1000:\n",
    "                    count = trackNames[name][1]\n",
    "                    trackNames[name] = (duration, count+1)\n",
    "            else:\n",
    "                trackNames[name] = (duration, 1)\n",
    "        except:\n",
    "            pass\n",
    "    \n",
    "    dups = []\n",
    "    for k,v in trackNames.items():\n",
    "        if v[1] > 1:\n",
    "            dups.append((v[1],k))\n",
    "    \n",
    "    if len(dups) > 0:\n",
    "        print('%d 개의 중복곡을 찾았습니다. (dup.txt)' %len(dups))\n",
    "    else:\n",
    "        print('중복곡이 없습니다.')\n",
    "    \n",
    "    f = open('dups.txt', 'w')\n",
    "    for val in dups:\n",
    "        f.write('[%d] %s\\n' %(val[0],val[1]) )\n",
    "    f.close()"
   ]
  },
  {
   "cell_type": "code",
   "execution_count": 6,
   "metadata": {
    "collapsed": false,
    "deletable": true,
    "editable": true
   },
   "outputs": [
    {
     "name": "stdout",
     "output_type": "stream",
     "text": [
      "중복곡을 찾습니다..(mymusic.xml)\n",
      "108 개의 중복곡을 찾았습니다. (dup.txt)\n"
     ]
    }
   ],
   "source": [
    "findDuplicates3('mymusic.xml')"
   ]
  },
  {
   "cell_type": "markdown",
   "metadata": {
    "deletable": true,
    "editable": true
   },
   "source": [
    "## 4. 둘 이상의 재생목록에서 공통트랙 찾기"
   ]
  },
  {
   "cell_type": "code",
   "execution_count": 7,
   "metadata": {
    "collapsed": true,
    "deletable": true,
    "editable": true
   },
   "outputs": [],
   "source": [
    "import plistlib\n",
    "\n",
    "def findCommonTracks(fileNames):\n",
    "    print('공통 중복곡을 찾습니다..(%s)' %fileNames)\n",
    "    \n",
    "    trackNameSets = []\n",
    "    for fileName in fileNames:\n",
    "        trackNames = set()\n",
    "        with open(fileName,'rb') as fp:\n",
    "            plist = plistlib.load(fp)\n",
    "        tracks = plist['Tracks']\n",
    "        for trackId,track in tracks.items():\n",
    "            try:\n",
    "                trackNames.add(track['Name'])\n",
    "            except:\n",
    "                pass\n",
    "        trackNameSets.append(trackNames)\n",
    "    \n",
    "    commonTracks = set.intersection(*trackNameSets)\n",
    "    if len(commonTracks) > 0:\n",
    "        f = open('common-dups.txt','wb')\n",
    "        for val in commonTracks:\n",
    "            s = '%s\\n' %val\n",
    "            f.write(s.encode('UTF-8'))\n",
    "        f.close()\n",
    "        print('%d 개의 공통 중복곡을 찾았습니다. (common-dups.txt)' %len(commonTracks))\n",
    "    else:\n",
    "        print('공통 중복곡이 없습니다.')"
   ]
  },
  {
   "cell_type": "code",
   "execution_count": 8,
   "metadata": {
    "collapsed": false,
    "deletable": true,
    "editable": true
   },
   "outputs": [
    {
     "name": "stdout",
     "output_type": "stream",
     "text": [
      "공통 중복곡을 찾습니다..(['mymusic.xml', 'mymusic2.xml'])\n",
      "134 개의 공통 중복곡을 찾았습니다. (common-dups.txt)\n"
     ]
    }
   ],
   "source": [
    "findCommonTracks(['mymusic.xml','mymusic2.xml'])"
   ]
  },
  {
   "cell_type": "markdown",
   "metadata": {
    "deletable": true,
    "editable": true
   },
   "source": [
    "## 5. 통계 값 수집하기 & 그래프로 표현하기"
   ]
  },
  {
   "cell_type": "code",
   "execution_count": 9,
   "metadata": {
    "collapsed": false,
    "deletable": true,
    "editable": true
   },
   "outputs": [],
   "source": [
    "import plistlib\n",
    "import numpy as np\n",
    "from matplotlib import pyplot\n",
    "\n",
    "def plotStats(fileName):\n",
    "    with open(fileName,'rb') as fp:\n",
    "        plist = plistlib.load(fp)\n",
    "    tracks = plist['Tracks']\n",
    "    ratings = []\n",
    "    durations = []\n",
    "    for trackId,track in tracks.items():\n",
    "        try:\n",
    "            ratings.append(track['Album Rating'])\n",
    "            durations.append(track['Total Time'])\n",
    "        except:\n",
    "            pass\n",
    "    \n",
    "    if ratings == [] or durations == []:\n",
    "        print('재생시간 및 순위정보가 없습니다. (%s)' %fileName)\n",
    "        return\n",
    "    \n",
    "    x = np.array(durations, np.int32)\n",
    "    x = x/60000.0\n",
    "    y = np.array(ratings, np.int32)\n",
    "    \n",
    "    pyplot.subplot(2,1,1)\n",
    "    pyplot.plot(x,y,'o')\n",
    "    pyplot.axis([0, 1.05*np.max(x), -1, 110])\n",
    "    pyplot.xlabel('Track duration')\n",
    "    pyplot.ylabel('Track rating')\n",
    "    \n",
    "    pyplot.subplot(2,1,2)\n",
    "    pyplot.hist(x, bins=20)\n",
    "    pyplot.xlabel('Track duration')\n",
    "    pyplot.xlabel('Count')\n",
    "    \n",
    "    pyplot.show()"
   ]
  },
  {
   "cell_type": "code",
   "execution_count": 10,
   "metadata": {
    "collapsed": false,
    "deletable": true,
    "editable": true
   },
   "outputs": [
    {
     "data": {
      "image/png": "[encoded data removed]",
      "text/plain": [
       "<matplotlib.figure.Figure at 0x629fa50>"
      ]
     },
     "metadata": {},
     "output_type": "display_data"
    }
   ],
   "source": [
    "plotStats('mymusic.xml')"
   ]
  }
 ],
 "metadata": {
  "kernelspec": {
   "display_name": "Python 3",
   "language": "python",
   "name": "python3"
  },
  "language_info": {
   "codemirror_mode": {
    "name": "ipython",
    "version": 3
   },
   "file_extension": ".py",
   "mimetype": "text/x-python",
   "name": "python",
   "nbconvert_exporter": "python",
   "pygments_lexer": "ipython3",
   "version": "3.5.2"
  }
 },
 "nbformat": 4,
 "nbformat_minor": 2
}
